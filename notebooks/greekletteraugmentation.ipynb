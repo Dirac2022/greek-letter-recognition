{
 "cells": [
  {
   "cell_type": "code",
   "execution_count": 1,
   "id": "1a84d89c",
   "metadata": {
    "_cell_guid": "b1076dfc-b9ad-4769-8c92-a6c4dae69d19",
    "_uuid": "8f2839f25d086af736a60e9eeb907d3b93b6e0e5",
    "execution": {
     "iopub.execute_input": "2025-05-15T15:00:28.076882Z",
     "iopub.status.busy": "2025-05-15T15:00:28.076601Z",
     "iopub.status.idle": "2025-05-15T15:00:39.546459Z",
     "shell.execute_reply": "2025-05-15T15:00:39.545583Z"
    },
    "papermill": {
     "duration": 11.47522,
     "end_time": "2025-05-15T15:00:39.548134",
     "exception": false,
     "start_time": "2025-05-15T15:00:28.072914",
     "status": "completed"
    },
    "tags": []
   },
   "outputs": [],
   "source": [
    "import numpy as np\n",
    "import cv2\n",
    "import matplotlib.pyplot\n",
    "import os\n",
    "import torch\n",
    "from tqdm import tqdm\n",
    "from PIL import Image\n",
    "from torchvision import transforms\n",
    "import torchvision.transforms.functional as TF\n",
    "import random"
   ]
  },
  {
   "cell_type": "code",
   "execution_count": 2,
   "id": "3237bed1",
   "metadata": {
    "execution": {
     "iopub.execute_input": "2025-05-15T15:00:39.553561Z",
     "iopub.status.busy": "2025-05-15T15:00:39.553190Z",
     "iopub.status.idle": "2025-05-15T15:00:39.563426Z",
     "shell.execute_reply": "2025-05-15T15:00:39.562674Z"
    },
    "papermill": {
     "duration": 0.014057,
     "end_time": "2025-05-15T15:00:39.564745",
     "exception": false,
     "start_time": "2025-05-15T15:00:39.550688",
     "status": "completed"
    },
    "tags": []
   },
   "outputs": [],
   "source": [
    "letters = os.listdir(\"/kaggle/input/mnist-greek-letters/Greek_Letters\")\n",
    "os.mkdir(\"LONG-MNIST-greek-letters\")"
   ]
  },
  {
   "cell_type": "code",
   "execution_count": 3,
   "id": "ee469058",
   "metadata": {
    "execution": {
     "iopub.execute_input": "2025-05-15T15:00:39.569461Z",
     "iopub.status.busy": "2025-05-15T15:00:39.569000Z",
     "iopub.status.idle": "2025-05-15T15:00:41.667362Z",
     "shell.execute_reply": "2025-05-15T15:00:41.666382Z"
    },
    "papermill": {
     "duration": 2.10225,
     "end_time": "2025-05-15T15:00:41.668909",
     "exception": false,
     "start_time": "2025-05-15T15:00:39.566659",
     "status": "completed"
    },
    "tags": []
   },
   "outputs": [],
   "source": [
    "!cp -r /kaggle/input/mnist-greek-letters/Greek_Letters/* /kaggle/working/LONG-MNIST-greek-letters "
   ]
  },
  {
   "cell_type": "markdown",
   "id": "30890e90",
   "metadata": {
    "papermill": {
     "duration": 0.001727,
     "end_time": "2025-05-15T15:00:41.674329",
     "exception": false,
     "start_time": "2025-05-15T15:00:41.672602",
     "status": "completed"
    },
    "tags": []
   },
   "source": [
    "## Data Augmentation"
   ]
  },
  {
   "cell_type": "code",
   "execution_count": 4,
   "id": "e184111e",
   "metadata": {
    "execution": {
     "iopub.execute_input": "2025-05-15T15:00:41.679998Z",
     "iopub.status.busy": "2025-05-15T15:00:41.679680Z",
     "iopub.status.idle": "2025-05-15T15:00:41.684774Z",
     "shell.execute_reply": "2025-05-15T15:00:41.683998Z"
    },
    "papermill": {
     "duration": 0.009606,
     "end_time": "2025-05-15T15:00:41.686016",
     "exception": false,
     "start_time": "2025-05-15T15:00:41.676410",
     "status": "completed"
    },
    "tags": []
   },
   "outputs": [],
   "source": [
    "def get_random_transform():\n",
    "    return transforms.RandomAffine(\n",
    "        degrees=20,                # rotación aleatoria entre -20° y 20°\n",
    "        translate=(0.1, 0.1),      # traslación hasta el 10% del tamaño de la imagen\n",
    "        scale=(0.9, 1.1),          # escala entre 90% y 110%\n",
    "        shear=0.0,                 # sin shear\n",
    "        fill=255                   # rellenar bordes con blanco\n",
    "    )"
   ]
  },
  {
   "cell_type": "code",
   "execution_count": 5,
   "id": "689d7731",
   "metadata": {
    "execution": {
     "iopub.execute_input": "2025-05-15T15:00:41.690739Z",
     "iopub.status.busy": "2025-05-15T15:00:41.690111Z",
     "iopub.status.idle": "2025-05-15T15:00:41.693839Z",
     "shell.execute_reply": "2025-05-15T15:00:41.693040Z"
    },
    "papermill": {
     "duration": 0.007241,
     "end_time": "2025-05-15T15:00:41.695035",
     "exception": false,
     "start_time": "2025-05-15T15:00:41.687794",
     "status": "completed"
    },
    "tags": []
   },
   "outputs": [],
   "source": [
    "output_dir = \"/kaggle/working/LONG-MNIST-greek-letters\""
   ]
  },
  {
   "cell_type": "code",
   "execution_count": 6,
   "id": "f037b7ac",
   "metadata": {
    "execution": {
     "iopub.execute_input": "2025-05-15T15:00:41.699443Z",
     "iopub.status.busy": "2025-05-15T15:00:41.699004Z",
     "iopub.status.idle": "2025-05-15T15:00:45.178965Z",
     "shell.execute_reply": "2025-05-15T15:00:45.178094Z"
    },
    "papermill": {
     "duration": 3.483442,
     "end_time": "2025-05-15T15:00:45.180174",
     "exception": false,
     "start_time": "2025-05-15T15:00:41.696732",
     "status": "completed"
    },
    "tags": []
   },
   "outputs": [
    {
     "name": "stderr",
     "output_type": "stream",
     "text": [
      "Augmentando letras: 100%|██████████| 24/24 [00:03<00:00,  6.92it/s]\n"
     ]
    }
   ],
   "source": [
    "for l in tqdm(letters, desc=\"Augmentando letras\"):\n",
    "    letter_dir = os.path.join(output_dir, l)\n",
    "    images = [f for f in os.listdir(letter_dir) if f.endswith(('.png', '.jpg', '.jpeg'))]\n",
    "\n",
    "    for img_name in images:\n",
    "        img_path = os.path.join(letter_dir, img_name)\n",
    "        image = Image.open(img_path).convert(\"L\")  # Modo L (escala de grises)\n",
    "\n",
    "        for i in range(15):\n",
    "            transform = get_random_transform()\n",
    "            augmented = transform(image)\n",
    "            new_name = f\"{os.path.splitext(img_name)[0]}_aug{i+1}.png\"\n",
    "            augmented.save(os.path.join(letter_dir, new_name))"
   ]
  }
 ],
 "metadata": {
  "kaggle": {
   "accelerator": "none",
   "dataSources": [
    {
     "datasetId": 5302945,
     "sourceId": 8815849,
     "sourceType": "datasetVersion"
    }
   ],
   "dockerImageVersionId": 31040,
   "isGpuEnabled": false,
   "isInternetEnabled": true,
   "language": "python",
   "sourceType": "notebook"
  },
  "kernelspec": {
   "display_name": "Python 3",
   "language": "python",
   "name": "python3"
  },
  "language_info": {
   "codemirror_mode": {
    "name": "ipython",
    "version": 3
   },
   "file_extension": ".py",
   "mimetype": "text/x-python",
   "name": "python",
   "nbconvert_exporter": "python",
   "pygments_lexer": "ipython3",
   "version": "3.11.11"
  },
  "papermill": {
   "default_parameters": {},
   "duration": 25.077605,
   "end_time": "2025-05-15T15:00:48.598145",
   "environment_variables": {},
   "exception": null,
   "input_path": "__notebook__.ipynb",
   "output_path": "__notebook__.ipynb",
   "parameters": {},
   "start_time": "2025-05-15T15:00:23.520540",
   "version": "2.6.0"
  }
 },
 "nbformat": 4,
 "nbformat_minor": 5
}
